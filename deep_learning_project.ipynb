{
  "nbformat": 4,
  "nbformat_minor": 0,
  "metadata": {
    "kernelspec": {
      "display_name": "Python 3",
      "language": "python",
      "name": "python3"
    },
    "language_info": {
      "codemirror_mode": {
        "name": "ipython",
        "version": 3
      },
      "file_extension": ".py",
      "mimetype": "text/x-python",
      "name": "python",
      "nbconvert_exporter": "python",
      "pygments_lexer": "ipython3",
      "version": "3.8.5"
    },
    "colab": {
      "name": "deep_learning_project.ipynb",
      "provenance": [],
      "collapsed_sections": []
    },
    "accelerator": "GPU"
  },
  "cells": [
    {
      "cell_type": "code",
      "metadata": {
        "id": "XGmdxXWGEpmr",
        "colab": {
          "base_uri": "https://localhost:8080/"
        },
        "outputId": "3d38e5a2-144a-4286-d751-ad610c7745fb"
      },
      "source": [
        "from google.colab import drive\n",
        "drive.mount(\"/content/gdrive\")"
      ],
      "execution_count": null,
      "outputs": [
        {
          "output_type": "stream",
          "text": [
            "Mounted at /content/gdrive\n"
          ],
          "name": "stdout"
        }
      ]
    },
    {
      "cell_type": "code",
      "metadata": {
        "id": "mpK2g79dEaBa"
      },
      "source": [
        "import os\n",
        "import zipfile\n",
        "import cv2\n",
        "import numpy as np\n",
        "import matplotlib.pyplot as plt\n",
        "from tensorflow import keras\n",
        "from tensorflow.keras import layers\n",
        "from sklearn.model_selection import train_test_split"
      ],
      "execution_count": null,
      "outputs": []
    },
    {
      "cell_type": "code",
      "metadata": {
        "id": "SUDNk6SLE93Q"
      },
      "source": [
        "# Import dataset\n",
        "DATADIR = \"/content/trainset\"\n",
        "with zipfile.ZipFile('/content/gdrive/My Drive/Colab Notebooks/folder.zip', 'r') as zip_ref:\n",
        "    zip_ref.extractall(DATADIR)\n",
        "\n",
        "CATEGORIES = [\n",
        "    \"aa\", \"aà\", \"aá\", \"aä\", \"aâ\", \"abar\",\n",
        "    \"ee\", \"eè\", \"eé\", \"eë\", \"eê\", \"ebar\",\n",
        "    \"ii\", \"iì\", \"ií\", \"iï\", \"iî\", \"ibar\",\n",
        "    \"oo\", \"oò\", \"oó\", \"oö\", \"oô\", \"obar\",\n",
        "    \"uu\", \"uù\", \"uú\", \"uü\", \"uû\", \"ubar\",\n",
        "]"
      ],
      "execution_count": null,
      "outputs": []
    },
    {
      "cell_type": "code",
      "metadata": {
        "id": "dDtyez7tlWD3"
      },
      "source": [
        "# Create training data\n",
        "IMG_SIZE = 128\n",
        "training_data = []\n",
        "def create_train_dataset(dataset,dir,categories):\n",
        "    for category in categories: \n",
        "        path = os.path.join(dir, category)\n",
        "        class_num = categories.index(category)\n",
        "        for img in os.listdir(path):\n",
        "            img_array = cv2.imread(os.path.join(path,img), cv2.IMREAD_GRAYSCALE) #Grayscale\n",
        "            dataset.append([img_array, class_num])\n",
        "        \n",
        "create_train_dataset(training_data,DATADIR,CATEGORIES)"
      ],
      "execution_count": null,
      "outputs": []
    },
    {
      "cell_type": "code",
      "metadata": {
        "id": "Nhv5FXPYEaCf",
        "colab": {
          "base_uri": "https://localhost:8080/",
          "height": 285
        },
        "outputId": "d33acfb1-35d1-444a-e219-ca8f9521fc9e"
      },
      "source": [
        "# Separate images and freatures\n",
        "x, y = [], []\n",
        "for features, label in training_data:\n",
        "    x.append(features)\n",
        "    y.append(label)\n",
        "x = np.array(x).reshape(-1,IMG_SIZE,IMG_SIZE,1)\n",
        "\n",
        "# Normalize data \n",
        "x = x/255.0\n",
        "\n",
        "# print example\n",
        "x_print = np.reshape(x,(2000,128,128))\n",
        "plt.imshow(x_print[61],cmap=\"gray\")\n",
        "print(CATEGORIES[int(y[61])])"
      ],
      "execution_count": null,
      "outputs": [
        {
          "output_type": "stream",
          "text": [
            "aà\n"
          ],
          "name": "stdout"
        },
        {
          "output_type": "display_data",
          "data": {
            "image/png": "[encoded data removed]",
            "text/plain": [
              "<Figure size 432x288 with 1 Axes>"
            ]
          },
          "metadata": {
            "tags": [],
            "needs_background": "light"
          }
        }
      ]
    },
    {
      "cell_type": "code",
      "metadata": {
        "id": "Rd3IUshXEaCr",
        "colab": {
          "base_uri": "https://localhost:8080/"
        },
        "outputId": "8a913e1c-896b-4050-8f8b-285fa810412f"
      },
      "source": [
        "#Model\n",
        "\n",
        "no_classes = 30\n",
        "\n",
        "model = keras.models.Sequential([\n",
        "    keras.Input(shape=(128, 128, 1)),\n",
        "    layers.Conv2D(32, 3, padding=\"same\", activation=\"relu\"),\n",
        "    layers.MaxPooling2D(2),\n",
        "    layers.Dropout(0.5),\n",
        "    layers.Conv2D(32, 3, padding=\"same\", activation=\"relu\"),\n",
        "    layers.MaxPooling2D(2),\n",
        "    layers.Dropout(0.5),\n",
        "    layers.Conv2D(32, 3, padding=\"same\", activation=\"relu\"),\n",
        "    layers.MaxPooling2D(2),\n",
        "    layers.Dropout(0.5),\n",
        "    layers.Conv2D(32, 3, padding=\"same\", activation=\"relu\"),\n",
        "    layers.MaxPooling2D(2),\n",
        "    layers.Dropout(0.5),\n",
        "    layers.Flatten(),\n",
        "    layers.Dense(128,activation=\"relu\"),\n",
        "    layers.Dense(no_classes, activation='softmax'),\n",
        "])\n",
        "\n",
        "model.summary()\n",
        "\n",
        "# Compilation, adam optimizer\n",
        "model.compile(optimizer=\"adam\",\n",
        "             loss=\"sparse_categorical_crossentropy\",\n",
        "             metrics=[\"accuracy\"])"
      ],
      "execution_count": null,
      "outputs": [
        {
          "output_type": "stream",
          "text": [
            "Model: \"sequential\"\n",
            "_________________________________________________________________\n",
            "Layer (type)                 Output Shape              Param #   \n",
            "=================================================================\n",
            "conv2d (Conv2D)              (None, 128, 128, 32)      320       \n",
            "_________________________________________________________________\n",
            "max_pooling2d (MaxPooling2D) (None, 64, 64, 32)        0         \n",
            "_________________________________________________________________\n",
            "dropout (Dropout)            (None, 64, 64, 32)        0         \n",
            "_________________________________________________________________\n",
            "conv2d_1 (Conv2D)            (None, 64, 64, 32)        9248      \n",
            "_________________________________________________________________\n",
            "max_pooling2d_1 (MaxPooling2 (None, 32, 32, 32)        0         \n",
            "_________________________________________________________________\n",
            "dropout_1 (Dropout)          (None, 32, 32, 32)        0         \n",
            "_________________________________________________________________\n",
            "conv2d_2 (Conv2D)            (None, 32, 32, 32)        9248      \n",
            "_________________________________________________________________\n",
            "max_pooling2d_2 (MaxPooling2 (None, 16, 16, 32)        0         \n",
            "_________________________________________________________________\n",
            "dropout_2 (Dropout)          (None, 16, 16, 32)        0         \n",
            "_________________________________________________________________\n",
            "conv2d_3 (Conv2D)            (None, 16, 16, 32)        9248      \n",
            "_________________________________________________________________\n",
            "max_pooling2d_3 (MaxPooling2 (None, 8, 8, 32)          0         \n",
            "_________________________________________________________________\n",
            "dropout_3 (Dropout)          (None, 8, 8, 32)          0         \n",
            "_________________________________________________________________\n",
            "flatten (Flatten)            (None, 2048)              0         \n",
            "_________________________________________________________________\n",
            "dense (Dense)                (None, 128)               262272    \n",
            "_________________________________________________________________\n",
            "dense_1 (Dense)              (None, 30)                3870      \n",
            "=================================================================\n",
            "Total params: 294,206\n",
            "Trainable params: 294,206\n",
            "Non-trainable params: 0\n",
            "_________________________________________________________________\n"
          ],
          "name": "stdout"
        }
      ]
    },
    {
      "cell_type": "code",
      "metadata": {
        "id": "2BrCQkx9EaCz"
      },
      "source": [
        "# We know this line doesn't make much sense, but apparently it won't work without it\n",
        "x_train, x_test, y_train, y_test = train_test_split(x, y, test_size=1)\n",
        "y_train = np.asarray(y_train)\n",
        "y = np.asarray(y)\n",
        "print(x.shape,x_train.shape)\n",
        "print(y.shape,y_train.shape)\n",
        "\n",
        "# Model Fit\n",
        "\n",
        "history = model.fit(x_train, y_train, epochs=100, validation_split = 0.3, shuffle=True)\n",
        "\n",
        "#history = model.fit(x, y, epochs=100, validation_split = 0.3, shuffle=True)"
      ],
      "execution_count": null,
      "outputs": []
    },
    {
      "cell_type": "code",
      "metadata": {
        "colab": {
          "base_uri": "https://localhost:8080/",
          "height": 295
        },
        "id": "9EiRApt7UyIu",
        "outputId": "a186aaa1-fccf-40d4-fb11-cb4d45429acb"
      },
      "source": [
        "plt.plot(history.history['accuracy'])\n",
        "plt.plot(history.history['val_accuracy'])\n",
        "plt.title('model accuracy')\n",
        "plt.ylabel('accuracy')\n",
        "plt.xlabel('epoch')\n",
        "plt.legend(['train', 'val'], loc='upper left')\n",
        "plt.savefig('accuracy.png')\n",
        "plt.show()"
      ],
      "execution_count": null,
      "outputs": [
        {
          "output_type": "display_data",
          "data": {
            "image/png": "[encoded data removed]",
            "text/plain": [
              "<Figure size 432x288 with 1 Axes>"
            ]
          },
          "metadata": {
            "tags": [],
            "needs_background": "light"
          }
        }
      ]
    },
    {
      "cell_type": "code",
      "metadata": {
        "id": "wYKd5WF4_W0o"
      },
      "source": [
        "# Import testset\n",
        "with zipfile.ZipFile('/content/gdrive/My Drive/Colab Notebooks/testset.zip', 'r') as zip_ref:\n",
        "    zip_ref.extractall(\"/content\")\n",
        "\n",
        "with zipfile.ZipFile('/content/gdrive/My Drive/Colab Notebooks/model.zip', 'r') as zip_ref:\n",
        "    zip_ref.extractall(\"/content\")\n",
        "\n",
        "!mv /content/content/final.model /content/final.model\n",
        "!rm -r /content/content\n"
      ],
      "execution_count": null,
      "outputs": []
    },
    {
      "cell_type": "code",
      "metadata": {
        "colab": {
          "base_uri": "https://localhost:8080/",
          "height": 285
        },
        "id": "rnjLxROHMbJ_",
        "outputId": "1011c589-1810-428d-bb12-a7cd7556d478"
      },
      "source": [
        "testset_dir = '/content/images_test'\n",
        "IMG_SIZE = 128\n",
        "test_data = []\n",
        "def create_test_dataset(dataset,path):\n",
        "    for img in range(5000):\n",
        "        img_array = cv2.imread(os.path.join(path,f\"test_image_{img:05}.png\"), cv2.IMREAD_GRAYSCALE) #Grayscale\n",
        "        dataset.append(img_array)\n",
        "        \n",
        "create_test_dataset(test_data,testset_dir)\n",
        "x_test = np.array(test_data).reshape(-1,IMG_SIZE,IMG_SIZE,1)\n",
        "x_test = x_test/255.0\n",
        "\n",
        "# print example\n",
        "x_print = np.reshape(x_test,(5000,128,128))\n",
        "plt.imshow(x_print[1],cmap=\"gray\")"
      ],
      "execution_count": null,
      "outputs": [
        {
          "output_type": "execute_result",
          "data": {
            "text/plain": [
              "<matplotlib.image.AxesImage at 0x7fa03cad8a20>"
            ]
          },
          "metadata": {
            "tags": []
          },
          "execution_count": 26
        },
        {
          "output_type": "display_data",
          "data": {
            "image/png": "[encoded data removed]",
            "text/plain": [
              "<Figure size 432x288 with 1 Axes>"
            ]
          },
          "metadata": {
            "tags": [],
            "needs_background": "light"
          }
        }
      ]
    },
    {
      "cell_type": "code",
      "metadata": {
        "id": "fU_E5RjmEaDB",
        "colab": {
          "base_uri": "https://localhost:8080/",
          "height": 88
        },
        "outputId": "e14a0130-aca9-4044-913e-6811d9cd1fa4"
      },
      "source": [
        "# Load model\n",
        "# When given the testset we'll uncomment this line\n",
        "model = keras.models.load_model(\"/content/final.model\")\n",
        "#x_test = x # comment this when testset is available\n",
        "#y_test = y # comment this when testset is available\n",
        "prediction = model.predict(np.asarray(x_test))\n",
        "\n",
        "\"\"\"\n",
        "x_print = np.reshape(x,(2000,128,128))\n",
        "f, axarr = plt.subplots(3,2) \n",
        "num,num2 = 0,0\n",
        "\"\"\"\n",
        "\n",
        "\n",
        "errors = 0\n",
        "filename = 'test_predictions.csv'\n",
        "with open(filename,'w') as out_file:\n",
        "    out_file.write('\"id\",\"values\"\\n')\n",
        "    for image in range(5000):\n",
        "        out_file.write(f'\"{image:05}\",\"{CATEGORIES[np.argmax(prediction[image])]}\"\\n')\n",
        "\n",
        "\"\"\"\n",
        "        if CATEGORIES[np.argmax(prediction[image])] != CATEGORIES[y_test[image]]:\n",
        "            #plt.imshow(x_print[image],cmap=\"gray\")\n",
        "            print(image)\n",
        "            print(\"Prediction: \",CATEGORIES[np.argmax(prediction[image])])\n",
        "            print(\"Actual character: \",CATEGORIES[y_test[image]])\n",
        "            axarr[num][num2].imshow(x_print[image],cmap=\"gray\")\n",
        "            if num == 2:\n",
        "                num2 = 1\n",
        "                num = 0\n",
        "            else:\n",
        "                num += 1\n",
        "            errors += 1\n",
        "print(errors)\n",
        "\"\"\""
      ],
      "execution_count": null,
      "outputs": [
        {
          "output_type": "execute_result",
          "data": {
            "application/vnd.google.colaboratory.intrinsic+json": {
              "type": "string"
            },
            "text/plain": [
              "'\\n        if CATEGORIES[np.argmax(prediction[image])] != CATEGORIES[y_test[image]]:\\n            #plt.imshow(x_print[image],cmap=\"gray\")\\n            print(image)\\n            print(\"Prediction: \",CATEGORIES[np.argmax(prediction[image])])\\n            print(\"Actual character: \",CATEGORIES[y_test[image]])\\n            axarr[num][num2].imshow(x_print[image],cmap=\"gray\")\\n            if num == 2:\\n                num2 = 1\\n                num = 0\\n            else:\\n                num += 1\\n            errors += 1\\nprint(errors)\\n'"
            ]
          },
          "metadata": {
            "tags": []
          },
          "execution_count": 27
        }
      ]
    },
    {
      "cell_type": "code",
      "metadata": {
        "id": "FRsYnz_CEaC7",
        "colab": {
          "base_uri": "https://localhost:8080/"
        },
        "outputId": "62387f33-9dfe-4f80-eb5a-36fcc6c8cb79"
      },
      "source": [
        "# change for testset with results when available\n",
        "x_test = x\n",
        "y_test = y\n",
        "model.evaluate(x_test,  y_test, verbose=2)"
      ],
      "execution_count": null,
      "outputs": [
        {
          "output_type": "stream",
          "text": [
            "63/63 - 0s - loss: 0.0667 - accuracy: 0.9885\n"
          ],
          "name": "stdout"
        },
        {
          "output_type": "execute_result",
          "data": {
            "text/plain": [
              "[0.06666839122772217, 0.9884999990463257]"
            ]
          },
          "metadata": {
            "tags": []
          },
          "execution_count": 12
        }
      ]
    },
    {
      "cell_type": "code",
      "metadata": {
        "id": "nkrApPo6defm"
      },
      "source": [
        "# to be able to save files\n",
        "from google.colab import files"
      ],
      "execution_count": null,
      "outputs": []
    },
    {
      "cell_type": "code",
      "metadata": {
        "colab": {
          "base_uri": "https://localhost:8080/"
        },
        "id": "LI8SMYSXz-Ym",
        "outputId": "78081bda-d61a-4899-f0e8-1212a8b9416d"
      },
      "source": [
        "# Save the model\n",
        "model.save(\"final.model\")"
      ],
      "execution_count": null,
      "outputs": [
        {
          "output_type": "stream",
          "text": [
            "WARNING:tensorflow:From /usr/local/lib/python3.6/dist-packages/tensorflow/python/training/tracking/tracking.py:111: Model.state_updates (from tensorflow.python.keras.engine.training) is deprecated and will be removed in a future version.\n",
            "Instructions for updating:\n",
            "This property should not be used in TensorFlow 2.0, as updates are applied automatically.\n",
            "WARNING:tensorflow:From /usr/local/lib/python3.6/dist-packages/tensorflow/python/training/tracking/tracking.py:111: Layer.updates (from tensorflow.python.keras.engine.base_layer) is deprecated and will be removed in a future version.\n",
            "Instructions for updating:\n",
            "This property should not be used in TensorFlow 2.0, as updates are applied automatically.\n",
            "INFO:tensorflow:Assets written to: final.model/assets\n"
          ],
          "name": "stdout"
        }
      ]
    },
    {
      "cell_type": "code",
      "metadata": {
        "id": "Jum4vdyGebbM",
        "colab": {
          "base_uri": "https://localhost:8080/"
        },
        "outputId": "dd1ebb9f-eccb-47ce-95b6-f7c1243bf374"
      },
      "source": [
        "!zip -r /content/model.zip /content/final.model"
      ],
      "execution_count": null,
      "outputs": [
        {
          "output_type": "stream",
          "text": [
            "  adding: content/final.model/ (stored 0%)\n",
            "  adding: content/final.model/variables/ (stored 0%)\n",
            "  adding: content/final.model/variables/variables.data-00000-of-00001 (deflated 18%)\n",
            "  adding: content/final.model/variables/variables.index (deflated 69%)\n",
            "  adding: content/final.model/assets/ (stored 0%)\n",
            "  adding: content/final.model/saved_model.pb (deflated 90%)\n"
          ],
          "name": "stdout"
        }
      ]
    },
    {
      "cell_type": "code",
      "metadata": {
        "id": "3Ka-a_cceOqO",
        "colab": {
          "base_uri": "https://localhost:8080/",
          "height": 17
        },
        "outputId": "9818dcc3-164e-4477-bbc7-a8bb674e8d96"
      },
      "source": [
        "files.download('model.zip') "
      ],
      "execution_count": null,
      "outputs": [
        {
          "output_type": "display_data",
          "data": {
            "application/javascript": [
              "\n",
              "    async function download(id, filename, size) {\n",
              "      if (!google.colab.kernel.accessAllowed) {\n",
              "        return;\n",
              "      }\n",
              "      const div = document.createElement('div');\n",
              "      const label = document.createElement('label');\n",
              "      label.textContent = `Downloading \"${filename}\": `;\n",
              "      div.appendChild(label);\n",
              "      const progress = document.createElement('progress');\n",
              "      progress.max = size;\n",
              "      div.appendChild(progress);\n",
              "      document.body.appendChild(div);\n",
              "\n",
              "      const buffers = [];\n",
              "      let downloaded = 0;\n",
              "\n",
              "      const channel = await google.colab.kernel.comms.open(id);\n",
              "      // Send a message to notify the kernel that we're ready.\n",
              "      channel.send({})\n",
              "\n",
              "      for await (const message of channel.messages) {\n",
              "        // Send a message to notify the kernel that we're ready.\n",
              "        channel.send({})\n",
              "        if (message.buffers) {\n",
              "          for (const buffer of message.buffers) {\n",
              "            buffers.push(buffer);\n",
              "            downloaded += buffer.byteLength;\n",
              "            progress.value = downloaded;\n",
              "          }\n",
              "        }\n",
              "      }\n",
              "      const blob = new Blob(buffers, {type: 'application/binary'});\n",
              "      const a = document.createElement('a');\n",
              "      a.href = window.URL.createObjectURL(blob);\n",
              "      a.download = filename;\n",
              "      div.appendChild(a);\n",
              "      a.click();\n",
              "      div.remove();\n",
              "    }\n",
              "  "
            ],
            "text/plain": [
              "<IPython.core.display.Javascript object>"
            ]
          },
          "metadata": {
            "tags": []
          }
        },
        {
          "output_type": "display_data",
          "data": {
            "application/javascript": [
              "download(\"download_6a87dfc4-3afd-4498-97e0-fadeb4907181\", \"model.zip\", 2917518)"
            ],
            "text/plain": [
              "<IPython.core.display.Javascript object>"
            ]
          },
          "metadata": {
            "tags": []
          }
        }
      ]
    }
  ]
}